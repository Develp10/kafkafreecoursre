{
 "cells": [
  {
   "cell_type": "markdown",
   "id": "c7782e84-9e54-467b-8936-6c8b625e05bf",
   "metadata": {},
   "source": [
    "Файл `docker-compose.yml`:\n",
    "\n",
    "```\n",
    "version: '2'\n",
    "services:\n",
    "  zookeeper:\n",
    "    image: confluentinc/cp-zookeeper:latest\n",
    "    environment:\n",
    "      ZOOKEEPER_CLIENT_PORT: 2181\n",
    "      ZOOKEEPER_TICK_TIME: 2000\n",
    "    ports:\n",
    "      - \"22181:2181\"\n",
    "\n",
    "  kafka:\n",
    "    image: confluentinc/cp-kafka:latest\n",
    "    depends_on:\n",
    "      - zookeeper\n",
    "    ports:\n",
    "      - \"29092:29092\"\n",
    "    environment:\n",
    "      KAFKA_BROKER_ID: 1\n",
    "      KAFKA_ZOOKEEPER_CONNECT: zookeeper:2181\n",
    "      KAFKA_ADVERTISED_LISTENERS: PLAINTEXT://kafka:9092,PLAINTEXT_HOST://localhost:29092\n",
    "      KAFKA_LISTENER_SECURITY_PROTOCOL_MAP: PLAINTEXT:PLAINTEXT,PLAINTEXT_HOST:PLAINTEXT\n",
    "      KAFKA_INTER_BROKER_LISTENER_NAME: PLAINTEXT\n",
    "      KAFKA_OFFSETS_TOPIC_REPLICATION_FACTOR: 1\n",
    "```\n",
    "\n",
    "После создания этого файла поднимаем эти 2 контейнера: `docker-compose up -d`"
   ]
  },
  {
   "cell_type": "markdown",
   "id": "e50d8dc7-9ff0-487e-9fa8-ec8f596b9825",
   "metadata": {},
   "source": [
    "---"
   ]
  },
  {
   "cell_type": "markdown",
   "id": "1d7d7575-7622-4258-b3e2-36bef9ea7509",
   "metadata": {},
   "source": [
    "Файл `config.py`:\n",
    "\n",
    "```\n",
    "HOST = 'localhost'\n",
    "PORT = 29092\n",
    "WEATHER_TOPIC = 'weather'\n",
    "```"
   ]
  },
  {
   "cell_type": "markdown",
   "id": "36688059-da9b-43ee-9583-a98ae191607a",
   "metadata": {},
   "source": [
    "---"
   ]
  },
  {
   "cell_type": "markdown",
   "id": "beb55a9b-41eb-48bc-b8c5-8ec502376424",
   "metadata": {},
   "source": [
    "Файл `producer.py`:\n",
    "\n",
    "```\n",
    "import asyncio\n",
    "import json\n",
    "import random\n",
    "from aiokafka import AIOKafkaProducer\n",
    "\n",
    "import config\n",
    "\n",
    "\n",
    "def serializer(value):\n",
    "    \"\"\"\n",
    "    Обмен данными происходит в байтах, поэтому мы должны\n",
    "    сначала перевести наше значение JSON, а затем в байты\n",
    "    \"\"\"\n",
    "    return json.dumps(value).encode()\n",
    "\n",
    "\n",
    "async def produce():\n",
    "    producer = AIOKafkaProducer(\n",
    "        bootstrap_servers=f'{config.HOST}:{config.PORT}',\n",
    "        value_serializer=serializer,\n",
    "        compression_type=\"gzip\"\n",
    "    )\n",
    "    await producer.start()\n",
    "    try:\n",
    "        while True:\n",
    "            data = {\n",
    "                \"temp\": random.randint(10, 20),\n",
    "                \"weather\": random.choice((\"rainy\", \"sunny\"))\n",
    "            }\n",
    "            await producer.send(config.WEATHER_TOPIC, data)\n",
    "            await asyncio.sleep(random.randint(1, 5))\n",
    "    finally:\n",
    "        await producer.stop()\n",
    "\n",
    "\n",
    "if __name__ == '__main__':\n",
    "    asyncio.run(produce())\n",
    "```"
   ]
  },
  {
   "cell_type": "markdown",
   "id": "53252eda-30b2-493b-ba83-1c7b7418b4c9",
   "metadata": {},
   "source": [
    "---"
   ]
  },
  {
   "cell_type": "markdown",
   "id": "47b87237-5c6c-4be4-b781-fb196bc035e0",
   "metadata": {},
   "source": [
    "Файл `consumer.py`:\n",
    "\n",
    "```\n",
    "import asyncio\n",
    "import json\n",
    "from aiokafka import AIOKafkaConsumer\n",
    "\n",
    "import config\n",
    "\n",
    "\n",
    "def deserializer(serialized):\n",
    "    \"\"\"\n",
    "    Десериализатор получаемых данных\n",
    "    \"\"\"\n",
    "    return json.loads(serialized)\n",
    "\n",
    "\n",
    "async def event_handler(value):\n",
    "    \"\"\"\n",
    "    Обработчик события. Как только мы получаем новое сообщение,\n",
    "    будет отрабатывать данная функция\n",
    "    \"\"\"\n",
    "    print(f\"Temperature: {value['temp']}, weather: {value['weather']}\")\n",
    "\n",
    "\n",
    "async def consume():\n",
    "    consumer = AIOKafkaConsumer(\n",
    "        config.WEATHER_TOPIC,\n",
    "        bootstrap_servers=f'{config.HOST}:{config.PORT}',\n",
    "        value_deserializer=deserializer\n",
    "    )\n",
    "    await consumer.start()\n",
    "    try:\n",
    "        async for msg in consumer:\n",
    "            await event_handler(msg.value)\n",
    "    finally:\n",
    "        await consumer.stop()\n",
    "\n",
    "\n",
    "if __name__ == '__main__':\n",
    "    asyncio.run(consume())\n",
    "```"
   ]
  },
  {
   "cell_type": "markdown",
   "id": "3277a32e-3ec0-4781-a72d-60072c19a6e9",
   "metadata": {},
   "source": [
    "---"
   ]
  },
  {
   "cell_type": "markdown",
   "id": "dabb10aa-204d-4c06-998b-8b7cb7faf062",
   "metadata": {},
   "source": [
    "После создания файлов `producer.py` и `consumer.py` запускаем их:\n",
    "- `python producer.py`\n",
    "- `python producer.py`\n",
    "\n",
    "При этом файл `producer.py` пишет данные в Kafka, а файл `consumer.py` читает их"
   ]
  },
  {
   "cell_type": "markdown",
   "id": "6270df3b-fc10-4066-92a4-90516d2e617c",
   "metadata": {},
   "source": [
    "---"
   ]
  },
  {
   "cell_type": "markdown",
   "id": "ba98943b-f112-45ea-bafd-6dd0184dac5f",
   "metadata": {},
   "source": [
    "Отличная статья на Хабре — https://habr.com/ru/companies/sbermarket/articles/738634/\n",
    "\n",
    "![](https://i.imgur.com/7n1KUgC.png)"
   ]
  },
  {
   "cell_type": "markdown",
   "id": "64cf2c5e-c13c-4dbc-94f0-e92894e42023",
   "metadata": {},
   "source": [
    "---"
   ]
  },
  {
   "cell_type": "markdown",
   "id": "f5bcc2cf-60a5-4887-91d1-e33ceb3d581a",
   "metadata": {},
   "source": [
    "Лекция по Kafka от Ивана Пономарёва — https://inponomarev.github.io/kafka-hjs/#/\n",
    "\n",
    "![](https://i.imgur.com/RvjqDkB.png)"
   ]
  },
  {
   "cell_type": "markdown",
   "id": "f4e90849-09b0-4f69-9d03-654f3364ce2b",
   "metadata": {},
   "source": [
    "---"
   ]
  },
  {
   "cell_type": "markdown",
   "id": "1999dd9e-35ee-479f-af97-194799a0c1c7",
   "metadata": {},
   "source": [
    "Книга \"Kafka в действии\" — https://datafinder.ru/files/Open-source-BI/Kafka-v-dejstvii.pdf\n",
    "\n",
    "![](https://i.imgur.com/kRINaBg.png)"
   ]
  }
 ],
 "metadata": {
  "kernelspec": {
   "display_name": "Python 3 (ipykernel)",
   "language": "python",
   "name": "python3"
  },
  "language_info": {
   "codemirror_mode": {
    "name": "ipython",
    "version": 3
   },
   "file_extension": ".py",
   "mimetype": "text/x-python",
   "name": "python",
   "nbconvert_exporter": "python",
   "pygments_lexer": "ipython3",
   "version": "3.12.3"
  }
 },
 "nbformat": 4,
 "nbformat_minor": 5
}
